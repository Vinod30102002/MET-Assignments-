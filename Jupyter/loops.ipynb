{
 "cells": [
  {
   "cell_type": "code",
   "execution_count": 7,
   "id": "9f0996c2",
   "metadata": {},
   "outputs": [
    {
     "name": "stdout",
     "output_type": "stream",
     "text": [
      "Not found the number\n",
      "Not found the number\n",
      "Not found the number\n",
      "Not found the number\n",
      "Not found the number\n",
      "Not found the number\n"
     ]
    }
   ],
   "source": [
    "#Assign 1\n",
    "# Store a list of numbers - 10, 22, 33, 67, 89, 83\n",
    "# Take user input - Ask to enter a number\n",
    "# Using if number is present in the list\n",
    "# If it is present, print \"Found the number\" and break the loop\n",
    "# If not, print \"Not Found Your Number!\"\n",
    " \n",
    "numbers = [10, 22, 33, 67, 89, 83]\n",
    "user = int(input(\"Enter a number: \"))\n",
    "for i in numbers:\n",
    "    if user in numbers:\n",
    "        print(\"Found the NUmber\")\n",
    "        break\n",
    "    else:\n",
    "        print(\"Not found the number\")"
   ]
  },
  {
   "cell_type": "code",
   "execution_count": 11,
   "id": "66edc42a",
   "metadata": {},
   "outputs": [
    {
     "name": "stdout",
     "output_type": "stream",
     "text": [
      "Access Granted\n"
     ]
    }
   ],
   "source": [
    "#Assign 2\n",
    "# Have a variable and store password as 'secret123'\n",
    "# Ask user to guess password\n",
    "# User have only three chances to guess the password\n",
    "# After each wrong attempt show remaining attempts\n",
    "# If guessed correctly, print \"Access Granted\" and break\n",
    "# If all chances are used print \"Access Denied\"\n",
    "# Use while-else to acheive this\n",
    "\n",
    "password = \"secret123\"\n",
    "attempts = 3\n",
    "while attempts > 0:\n",
    "    guess_password = input(\"Enter a password: \")\n",
    "    if guess_password == password:\n",
    "        print(\"Access Granted\")\n",
    "        break\n",
    "    else:\n",
    "        attempts = attempts - 1\n",
    "        print(f\"wrong password.{attempts} attemts left. \")\n",
    "else:\n",
    "        print(\"Access deined\")"
   ]
  }
 ],
 "metadata": {
  "kernelspec": {
   "display_name": ".venv",
   "language": "python",
   "name": "python3"
  },
  "language_info": {
   "codemirror_mode": {
    "name": "ipython",
    "version": 3
   },
   "file_extension": ".py",
   "mimetype": "text/x-python",
   "name": "python",
   "nbconvert_exporter": "python",
   "pygments_lexer": "ipython3",
   "version": "3.13.3"
  }
 },
 "nbformat": 4,
 "nbformat_minor": 5
}
