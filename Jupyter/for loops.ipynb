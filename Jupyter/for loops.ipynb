{
 "cells": [
  {
   "cell_type": "code",
   "execution_count": 14,
   "id": "199c9083",
   "metadata": {},
   "outputs": [
    {
     "name": "stdout",
     "output_type": "stream",
     "text": [
      "[85.0]\n",
      "[85.0, 71.0]\n",
      "[85.0, 71.0, 90.0]\n"
     ]
    }
   ],
   "source": [
    "#  1. Sort Students by Average Marks\n",
    "students = [\n",
    "   {\"name\": \"Alice\", \"marks\": [80, 85, 90]},\n",
    "   {\"name\": \"Bob\", \"marks\": [70, 75, 68]},\n",
    "   {\"name\": \"Charlie\", \"marks\": [90, 92, 88]}\n",
    " ]\n",
    " # Task:\n",
    " # Write a function that calculates average marks for each student,\n",
    " # then sorts and prints the list in descending order of average.\n",
    "result = []\n",
    " \n",
    "for student in students:\n",
    "      if student in students:\n",
    "            marks = student[\"marks\"]\n",
    "            total = 0\n",
    "            for entry in marks:\n",
    "                total = total + entry\n",
    "            avg = total / len(marks)\n",
    "            result.append(avg)\n",
    "            \n",
    "      print(result)\n",
    "       \n",
    "\n"
   ]
  },
  {
   "cell_type": "code",
   "execution_count": 13,
   "id": "76e042a6",
   "metadata": {},
   "outputs": [
    {
     "name": "stdout",
     "output_type": "stream",
     "text": [
      "{'Alice': [1, 1, 0, 1, 1], 'Charlie': [1, 1, 1, 1, 1]}\n"
     ]
    }
   ],
   "source": [
    "#  2. Remove Low Attendance Students\n",
    "attendance = {\n",
    "    \"Alice\": [1, 1, 0, 1, 1],\n",
    "    \"Bob\": [0, 1, 0, 0, 1],\n",
    "    \"Charlie\": [1, 1, 1, 1, 1]\n",
    " }\n",
    " # Task:\n",
    " # Remove students with less than 3 days of attendance using remove() or pop().\n",
    "remove_items = []\n",
    " \n",
    "for item in attendance:\n",
    "   key = item\n",
    "   value = attendance[item]\n",
    "   count = 0\n",
    "   for v in value:\n",
    "      if v == 1:\n",
    "         count +=1\n",
    "   if count < 3:\n",
    "        remove_items.append(key)\n",
    "       \n",
    "for i in remove_items:\n",
    "    attendance.pop(i)\n",
    "   \n",
    "print(attendance)\n",
    "            \n",
    "     \n",
    " "
   ]
  },
  {
   "cell_type": "code",
   "execution_count": 4,
   "id": "2cc3ff9d",
   "metadata": {},
   "outputs": [
    {
     "name": "stdout",
     "output_type": "stream",
     "text": [
      "{'user': 'dave', 'msg': 'Yo'}\n",
      "{'user': 'charlie', 'msg': 'Hey'}\n"
     ]
    }
   ],
   "source": [
    "# 3. Pop Recent Messages for Moderation\n",
    "messages = [\n",
    "    {\"user\": \"alice\", \"msg\": \"Hi\"},\n",
    "    {\"user\": \"bob\", \"msg\": \"Hello\"},\n",
    "    {\"user\": \"charlie\", \"msg\": \"Hey\"},\n",
    "    {\"user\": \"dave\", \"msg\": \"Yo\"}\n",
    " ]\n",
    " # Task:\n",
    " # Use a while loop to pop and print the last 2 messages.\n",
    " \n",
    "count = 0\n",
    "while count < 2:\n",
    "    count += 1\n",
    "    last_message = messages.pop()\n",
    "    print(last_message)\n",
    "\n",
    " "
   ]
  },
  {
   "cell_type": "code",
   "execution_count": 5,
   "id": "1736dfcf",
   "metadata": {},
   "outputs": [
    {
     "name": "stdout",
     "output_type": "stream",
     "text": [
      "Expensive\n",
      "Budget\n",
      "Expensive\n"
     ]
    }
   ],
   "source": [
    "# 4. Categorize Products by Price Range\n",
    "products = [\n",
    "   {\"name\": \"Laptop\", \"price\": 60000},\n",
    "   {\"name\": \"Mouse\", \"price\": 500},\n",
    "   {\"name\": \"Phone\", \"price\": 25000}\n",
    "   ]\n",
    " # Task:\n",
    " # Use if-else to print product name and \"Expensive\" if > 10000, else \"Budget\".\n",
    " \n",
    "for product in products:\n",
    "   price = product['price']\n",
    "   if price > 10000:\n",
    "      print(\"Expensive\")\n",
    "   else:\n",
    "      print(\"Budget\")\n",
    " "
   ]
  },
  {
   "cell_type": "code",
   "execution_count": 6,
   "id": "5ad1f221",
   "metadata": {},
   "outputs": [
    {
     "name": "stdout",
     "output_type": "stream",
     "text": [
      " no of students who scored more than 75:6\n"
     ]
    }
   ],
   "source": [
    "#  5. Count Grades using Nested Loops\n",
    "grades = {\n",
    "    \"Class A\": [80, 90, 78],\n",
    "    \"Class B\": [60, 55, 70],\n",
    "    \"Class C\": [88, 92, 85]\n",
    "}\n",
    " # Task:\n",
    " # Use nested loops to count how many students scored more than 75.\n",
    " \n",
    "count = 0\n",
    "for class_name, scores in grades.items():\n",
    "    for score in scores:\n",
    "        if score > 75:\n",
    "           count += 1\n",
    "print(f\" no of students who scored more than 75:{count}\")            "
   ]
  },
  {
   "cell_type": "code",
   "execution_count": 12,
   "id": "09546c0a",
   "metadata": {},
   "outputs": [
    {
     "name": "stdout",
     "output_type": "stream",
     "text": [
      "[{'id': 1, 'name': 'TV'}, {'id': 3, 'name': 'Microwave'}]\n"
     ]
    }
   ],
   "source": [
    "#  6. Search and Remove Product\n",
    "catalog = [\n",
    "    {\"id\": 1, \"name\": \"TV\"},\n",
    "    {\"id\": 2, \"name\": \"Fridge\"},\n",
    "    {\"id\": 3, \"name\": \"Microwave\"}\n",
    " ]\n",
    " # Task:\n",
    " # Write a function to remove a product by name using remove() and return updated list\n",
    "product_name_to_remove = \"Fridge\" \n",
    "for product in catalog:\n",
    "    if product[\"name\"] == product_name_to_remove:\n",
    "        catalog.remove(product)\n",
    "print(catalog)"
   ]
  },
  {
   "cell_type": "code",
   "execution_count": 8,
   "id": "e23890f1",
   "metadata": {},
   "outputs": [
    {
     "name": "stdout",
     "output_type": "stream",
     "text": [
      "john\n",
      "jane\n"
     ]
    }
   ],
   "source": [
    "#  7. Build User Directory with Loops and Conditions\n",
    "users = [\n",
    "    {\"username\": \"admin\", \"role\": \"superuser\"},\n",
    "    {\"username\": \"john\", \"role\": \"user\"},\n",
    "    {\"username\": \"jane\", \"role\": \"user\"}\n",
    "]\n",
    " # Task:\n",
    " # Print usernames who are not superuser using for loop and if condition\n",
    "for user in users:\n",
    "    if user[\"role\"]!= \"superuser\":\n",
    "        print(user[\"username\"])\n",
    "    "
   ]
  },
  {
   "cell_type": "code",
   "execution_count": 9,
   "id": "d560ecd3",
   "metadata": {},
   "outputs": [
    {
     "name": "stdout",
     "output_type": "stream",
     "text": [
      "1.6\n"
     ]
    }
   ],
   "source": [
    "#  8. Validate Score Entry using While Loop\n",
    " # Task:\n",
    " # Ask user to input 5 scores using a while loop.\n",
    "  # Ensure each score is between 0 and 100 using if statement.\n",
    " # Store in a list and print the average.\n",
    "\n",
    "scores = []\n",
    "count = 0\n",
    "\n",
    "while count < 5:\n",
    "    score = int(input(\"Enter score between 0 to 100: \"))\n",
    "    if 0 <= score <= 100:\n",
    "        scores.append(score)\n",
    "        count += 1\n",
    "    else:\n",
    "        print(\"invalid score, please enter number between 0 to 100 Only!\")\n",
    "        \n",
    "average_score = score / 5\n",
    "print(average_score)                                        "
   ]
  },
  {
   "cell_type": "code",
   "execution_count": null,
   "id": "54f09e48",
   "metadata": {},
   "outputs": [],
   "source": [
    "#  9. Bubble Sort Nested Marks List\n",
    "#  marks = [[70, 80], [60, 90], [50, 75]]\n",
    " # Task:\n",
    " # Flatten the list and use bubble sort logic to sort it manually without sort()"
   ]
  },
  {
   "cell_type": "code",
   "execution_count": 11,
   "id": "c57e3f44",
   "metadata": {},
   "outputs": [
    {
     "name": "stdout",
     "output_type": "stream",
     "text": [
      "{'2x': [2, 4, 6, 8, 10, 12, 14, 16, 18, 20], '3x': [3, 6, 9, 12, 15, 18, 21, 24, 27, 30], '4x': [4, 8, 12, 16, 20, 24, 28, 32, 36, 40]}\n"
     ]
    }
   ],
   "source": [
    "#  10. Custom Multiplication Table in Nested Dict\n",
    "tables = {\n",
    "    \"2x\": [],\n",
    "    \"3x\": [],\n",
    "    \"4x\": []\n",
    "}\n",
    " # Task:\n",
    " # Write a function to fill each list with the first 10 multiples using for loop\n",
    "\n",
    "def fill_multiplication_tables():\n",
    "    for i in range(1,11):\n",
    "        tables[\"2x\"].append(2*i)\n",
    "        tables[\"3x\"].append(3*i)\n",
    "        tables[\"4x\"].append(4*i)\n",
    "fill_multiplication_tables()\n",
    "print(tables)\n",
    " "
   ]
  },
  {
   "cell_type": "code",
   "execution_count": 4,
   "id": "71029ba3",
   "metadata": {},
   "outputs": [
    {
     "name": "stdout",
     "output_type": "stream",
     "text": [
      "1. almond milk\n",
      "2. bread\n",
      "3. milk chocolate\n",
      "4. eggs\n",
      "5. milk\n",
      "milk-related items:  {3}\n"
     ]
    }
   ],
   "source": [
    "# Assignment 1: Analyze a Shopping List (Lists + For Loop)\n",
    "# You are building a grocery app. Given a list of items, write a program to:\n",
    "# 1. Print each item in the shopping list with a serial number.\n",
    "# 2. Count how many items contain the word \"milk\".\n",
    "# Example Input:\n",
    "\n",
    "shopping_list = [\"almond milk\", \"bread\", \"milk chocolate\", \"eggs\", \"milk\"]\n",
    "for i , item in enumerate(shopping_list, start = 1):\n",
    "    print(f\"{i}. {item}\")\n",
    "      \n",
    "milk_count = 0\n",
    "for item in shopping_list:\n",
    "    if \"milk\" in item.lower():\n",
    "        milk_count += 1 \n",
    "\n",
    "print(f\"milk-related items: \", {milk_count})\n",
    "\n"
   ]
  },
  {
   "cell_type": "code",
   "execution_count": 33,
   "id": "85197dc1",
   "metadata": {},
   "outputs": [
    {
     "name": "stdout",
     "output_type": "stream",
     "text": [
      "found\n"
     ]
    }
   ],
   "source": [
    "# Assignment 2: Inventory Lookup (Dict + For-Else)\n",
    "# You have a dictionary of inventory items in a store. Ask the user to enter a product name and search for it\n",
    "# using a for-else loop. Print the quantity if found. If not found, show a message.\n",
    "# Example Dictionary:\n",
    "inventory = {\n",
    "\"apple\": 10,\n",
    " \"banana\": 25,\n",
    " \"orange\": 15,\n",
    " \"grape\": 8\n",
    "}\n",
    "user = input(\"Search the inventory: \").lower()\n",
    "for item in inventory:\n",
    "    if item == user:\n",
    "        print(\"found\")\n",
    "        break\n",
    "    else:\n",
    "        print(\"not found\")\n",
    "# Hint: Use for key in dict + if product == key + else"
   ]
  },
  {
   "cell_type": "code",
   "execution_count": 34,
   "id": "07390271",
   "metadata": {},
   "outputs": [
    {
     "name": "stdout",
     "output_type": "stream",
     "text": [
      "gninraeL\n",
      "nohtyP\n",
      "si\n",
      "nuf\n"
     ]
    }
   ],
   "source": [
    "# Assignment 3: Reverse Each Word (Strings + For Loop)\n",
    "# Write a program that takes a sentence, splits it into words, and prints each word reversed.\n",
    "# Example Input:\n",
    "# sentence = \"Learning Python is fun\"\n",
    "# Expected Output:\n",
    "# gninraeL\n",
    "# nohtyP\n",
    "# si\n",
    "# nuf\n",
    "\n",
    "sentence = \"Learning Python is fun\"\n",
    "words = sentence.split()\n",
    "\n",
    "for word in words:\n",
    "    reversed_word = word[:: -1]\n",
    "    print(reversed_word)\n"
   ]
  },
  {
   "cell_type": "code",
   "execution_count": 3,
   "id": "737d764a",
   "metadata": {},
   "outputs": [
    {
     "name": "stdout",
     "output_type": "stream",
     "text": [
      "Day1 Monday temperature :30\n",
      "Day2 Tuesday temperature :32\n",
      "Day3 wednesday temperature :31\n",
      "Day4 thursday temperature :29\n",
      "Day5 friday temperature :28\n",
      "Day6 Saturday temperature :33\n",
      "Day7 sunday temperature :34\n"
     ]
    }
   ],
   "source": [
    "# Assignment 4: Daily Temperature Logger (Tuples + Enumerate)\n",
    "# Given a tuple of daily temperatures for the week, print each day and its temperature using enumerate()\n",
    "# starting from Monday.\n",
    "# Example Tuple:\n",
    "# temps = (30, 32, 31, 29, 28, 33, 34)\n",
    "# Expected Output:\n",
    "# Day 1 (Monday): 30°C\n",
    "# Day 2 (Tuesday): 32°C\n",
    "# ...\n",
    "# Day 7 (Sunday): 34°C\n",
    "\n",
    "\n",
    "temps = (30, 32, 31, 29, 28, 33, 34)\n",
    "Day = (\"Monday\", \"Tuesday\", \"wednesday\", \"thursday\", \"friday\", \"Saturday\", \"sunday\")\n",
    "for i, temps in enumerate(temps):\n",
    "    \n",
    "    print(f\"Day{i+1} {Day[i]} temperature :{temps}\")\n",
    "\n"
   ]
  },
  {
   "cell_type": "code",
   "execution_count": 2,
   "id": "54d0bb8d",
   "metadata": {},
   "outputs": [
    {
     "name": "stdout",
     "output_type": "stream",
     "text": [
      "10\n",
      "9\n",
      "8\n",
      "7\n",
      "6\n",
      "5\n",
      "4\n",
      "3\n",
      "2\n",
      "1\n",
      "0\n",
      "Times up!\n"
     ]
    }
   ],
   "source": [
    "# Assignment 5: Countdown Timer (Range with Step)\n",
    "# Create a countdown timer that prints from 10 to 0 using range() with step -1.\n",
    "# Expected Output:\n",
    "# 10\n",
    "# 9\n",
    "# 8\n",
    "# ...\n",
    "# 0\n",
    "# Time's up!\n",
    "\n",
    "for i in range(10, -1, -1, ):\n",
    "    print(i,)\n",
    "print(\"Times up!\")"
   ]
  }
 ],
 "metadata": {
  "kernelspec": {
   "display_name": ".venv",
   "language": "python",
   "name": "python3"
  },
  "language_info": {
   "codemirror_mode": {
    "name": "ipython",
    "version": 3
   },
   "file_extension": ".py",
   "mimetype": "text/x-python",
   "name": "python",
   "nbconvert_exporter": "python",
   "pygments_lexer": "ipython3",
   "version": "3.13.3"
  }
 },
 "nbformat": 4,
 "nbformat_minor": 5
}
