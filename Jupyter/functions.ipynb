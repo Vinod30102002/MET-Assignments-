{
 "cells": [
  {
   "cell_type": "code",
   "execution_count": 1,
   "id": "20cd733a",
   "metadata": {},
   "outputs": [
    {
     "name": "stdout",
     "output_type": "stream",
     "text": [
      "Hello\n"
     ]
    }
   ],
   "source": [
    "print(\"Hello\")"
   ]
  },
  {
   "cell_type": "code",
   "execution_count": 19,
   "id": "cac83415",
   "metadata": {},
   "outputs": [
    {
     "name": "stdout",
     "output_type": "stream",
     "text": [
      "pass\n"
     ]
    }
   ],
   "source": [
    "score = int(input(\"Enter you score: \"))\n",
    "    \n",
    "def show_grade(a):\n",
    "        if a > 70:\n",
    "            print(\"pass\")\n",
    "        else:\n",
    "            print(\"fail\")\n",
    "\n",
    "show_grade(score)"
   ]
  },
  {
   "cell_type": "code",
   "execution_count": 11,
   "id": "b7595174",
   "metadata": {},
   "outputs": [
    {
     "name": "stdout",
     "output_type": "stream",
     "text": [
      "40\n",
      "39\n",
      "38\n",
      "37\n",
      "36\n",
      "35\n",
      "34\n",
      "33\n",
      "32\n",
      "31\n",
      "30\n"
     ]
    }
   ],
   "source": [
    "#1. Write a program to print numbers from 30 to 40 using while loop\n",
    "n = 40\n",
    "while n>30:\n",
    "    print(n)\n",
    "    n=n-1\n",
    "print(n)\n"
   ]
  },
  {
   "cell_type": "code",
   "execution_count": 13,
   "id": "7cd46921",
   "metadata": {},
   "outputs": [
    {
     "name": "stdout",
     "output_type": "stream",
     "text": [
      "Incorrect\n"
     ]
    }
   ],
   "source": [
    "#2. Ask user to guess a number. The correct number is 7.\n",
    "# If he enters anything other than 7, print 'Incorrect'\n",
    "number = int(input(\"guess a number: \"))\n",
    "if number == 7:\n",
    "    print(\"Correct\")\n",
    "else:\n",
    "    print(\"Incorrect\")\n"
   ]
  },
  {
   "cell_type": "code",
   "execution_count": 20,
   "id": "6b70fec9",
   "metadata": {},
   "outputs": [
    {
     "name": "stdout",
     "output_type": "stream",
     "text": [
      "20\n",
      "18\n",
      "16\n",
      "14\n",
      "12\n",
      "10\n",
      "8\n",
      "6\n",
      "4\n",
      "2\n"
     ]
    }
   ],
   "source": [
    "#3 Write a program to print all even numbers from 2 to 20 using a while loop\n",
    "n=20\n",
    "while n>2:\n",
    "    if n%2 == 0:\n",
    "        print(n)\n",
    "    n = n-1\n",
    "print(n)\n",
    "    "
   ]
  },
  {
   "cell_type": "code",
   "execution_count": 3,
   "id": "6e326c53",
   "metadata": {},
   "outputs": [
    {
     "name": "stdout",
     "output_type": "stream",
     "text": [
      "sum of all numbers entered:  18\n"
     ]
    }
   ],
   "source": [
    "#4. Write a program to read numbers from user until he enters 0.\n",
    "# If he enters 0, print sum of all numbers he entered from beginning\n",
    "total = 0\n",
    "while True:\n",
    "    num = int(input(\"Enter a numbers: \"))\n",
    "    if num == 0:\n",
    "        break\n",
    "        \n",
    "    total = total + num\n",
    "print(\"sum of all numbers entered: \", total)"
   ]
  }
 ],
 "metadata": {
  "kernelspec": {
   "display_name": ".venv",
   "language": "python",
   "name": "python3"
  },
  "language_info": {
   "codemirror_mode": {
    "name": "ipython",
    "version": 3
   },
   "file_extension": ".py",
   "mimetype": "text/x-python",
   "name": "python",
   "nbconvert_exporter": "python",
   "pygments_lexer": "ipython3",
   "version": "3.13.3"
  }
 },
 "nbformat": 4,
 "nbformat_minor": 5
}
